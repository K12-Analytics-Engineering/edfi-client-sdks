{
  "nbformat": 4,
  "nbformat_minor": 0,
  "metadata": {
    "colab": {
      "provenance": [],
      "collapsed_sections": [],
      "authorship_tag": "ABX9TyMqmtm3fLT3Ekq1I8tGrGgi",
      "include_colab_link": true
    },
    "kernelspec": {
      "name": "python3",
      "display_name": "Python 3"
    },
    "language_info": {
      "name": "python"
    }
  },
  "cells": [
    {
      "cell_type": "markdown",
      "metadata": {
        "id": "view-in-github",
        "colab_type": "text"
      },
      "source": [
        "<a href=\"https://colab.research.google.com/github/K12-Analytics-Engineering/edfi-client-sdks/blob/main/Ed_Fi_142_Notebook.ipynb\" target=\"_parent\"><img src=\"https://colab.research.google.com/assets/colab-badge.svg\" alt=\"Open In Colab\"/></a>"
      ]
    },
    {
      "cell_type": "markdown",
      "source": [
        "![logo](https://storage.googleapis.com/data-studio-codelab/academy_logo.png)\n",
        "\n",
        "Welcome! This notebook is designed to be used with Ed-Fi 142, a course on the Ed-Fi Academy. Ed-Fi 142 focuses on pushing data from a SIS to the `/schools` endpoint. This Notebook looks at two methods for retrieving data from an Ed-Fi API as means of exploring what's inside the ODS.\n",
        "\n",
        "It is recommended that you run each cell individually, reading the text and comments along the way."
      ],
      "metadata": {
        "id": "8LoOePZLK0Ij"
      }
    },
    {
      "cell_type": "code",
      "execution_count": null,
      "metadata": {
        "id": "vYb6S11vKZCa"
      },
      "outputs": [],
      "source": [
        "# run cell to clone edfi api sdk into environment\n",
        "! git clone https://github.com/K12-Analytics-Engineering/edfi-client-sdks.git;\n",
        "! mv /content/edfi-client-sdks/v5.3 /content/swagger_client;"
      ]
    },
    {
      "cell_type": "markdown",
      "source": [
        "# Imports and API credentials\n",
        "\n",
        "This section will import the necessary python libraries as well as have you enter your Ed-Fi API credentials. It is recommended to use the same API credentials used in the SIS."
      ],
      "metadata": {
        "id": "CFy0PPN_Lg2S"
      }
    },
    {
      "cell_type": "code",
      "source": [
        "import datetime\n",
        "import os\n",
        "import urllib3\n",
        "import requests\n",
        "\n",
        "from getpass import getpass\n",
        "import pandas as pd\n",
        "\n",
        "from google.colab import data_table\n",
        "data_table.enable_dataframe_formatter()\n",
        "\n",
        "import swagger_client"
      ],
      "metadata": {
        "id": "lhqbqGfDLXmF"
      },
      "execution_count": null,
      "outputs": []
    },
    {
      "cell_type": "code",
      "source": [
        "# update base url value, and run cell to store api key and secret\n",
        "EDFI_BASE_URL=\"https://api.ed-fi.org/v5.3/api\"\n",
        "EDFI_API_KEY = input(\"Enter your API key\")\n",
        "EDFI_API_SECRET = getpass(\"Enter your API secret\")"
      ],
      "metadata": {
        "id": "MGzVrF8TsEFC"
      },
      "execution_count": null,
      "outputs": []
    },
    {
      "cell_type": "markdown",
      "source": [
        "# Retrieving an access token\n",
        "\n",
        "Before you make API requests, you need to send your API key and secret to the `/oauth/token` endpoint to request an access token. Access tokens are used in the actual API requests and typically expire after 30 minutes. Once expired, API clients will request a new access token."
      ],
      "metadata": {
        "id": "G9M-gwmkLQ3n"
      }
    },
    {
      "cell_type": "code",
      "source": [
        "# run cell to create post request to retrieve access token\n",
        "access_response = requests.post(\n",
        "    f\"{EDFI_BASE_URL}/oauth/token\",\n",
        "    headers={ \"Authorization\": urllib3.util.make_headers(basic_auth=f'{EDFI_API_KEY}:{EDFI_API_SECRET}').get(\"authorization\") },\n",
        "    data={ \"grant_type\": \"client_credentials\" }\n",
        ")\n",
        "\n",
        "if access_response.ok:\n",
        "    access_token_json = access_response.json()\n",
        "    print(f\"Token will expire in {access_token_json['expires_in'] / 60} minutes\")\n",
        "    print(f\"Access token: {access_token_json['access_token']}\")\n",
        "else:\n",
        "    print(f\"Failed to retrieve access token with error {access_response.status_code}\")"
      ],
      "metadata": {
        "id": "PKcYJE23Kzn_"
      },
      "execution_count": null,
      "outputs": []
    },
    {
      "cell_type": "markdown",
      "source": [
        "# Schools\n",
        "\n",
        "Let's retrieve some data from the `/schools` endpoint using the client SDK.\n",
        "\n",
        "Now that you have an access token, you can configure the Ed-Fi API client. This is using a Client SDK generated from an [OpenAPI Specification document](https://api.ed-fi.org/v5.3/api/metadata/data/v3/resources/swagger.json) released by the Ed-Fi Alliance."
      ],
      "metadata": {
        "id": "vreQbvE93UUa"
      }
    },
    {
      "cell_type": "code",
      "source": [
        "# initialize edfi client\n",
        "edfi_client = swagger_client.ApiClient()\n",
        "edfi_client.configuration.access_token = access_token_json['access_token']\n",
        "edfi_client.configuration.host = f\"{EDFI_BASE_URL}/data/v3\"\n",
        "edfi_client.configuration.username = EDFI_API_KEY\n",
        "edfi_client.configuration.password = EDFI_API_SECRET"
      ],
      "metadata": {
        "id": "mf742VAyxt08"
      },
      "execution_count": null,
      "outputs": []
    },
    {
      "cell_type": "code",
      "source": [
        "# run cell to initialize SchoolApi class and call the get_schools() function\n",
        "schools_api = swagger_client.SchoolsApi(api_client=edfi_client)\n",
        "schools = schools_api.get_schools()\n",
        "\n",
        "f'Retrieved {len(schools)} schools.'"
      ],
      "metadata": {
        "id": "MjOpryWSnTPT"
      },
      "execution_count": null,
      "outputs": []
    },
    {
      "cell_type": "markdown",
      "source": [
        "`schools` is a List of EdFiSchool objects. This means we can loop through them and access various attributes."
      ],
      "metadata": {
        "id": "7Vp_Z2yx2OHs"
      }
    },
    {
      "cell_type": "code",
      "source": [
        "print(\"School ID, Name of institution\")\n",
        "for school in schools:\n",
        "  print(f\"{school.school_id}, {school.name_of_institution}\")"
      ],
      "metadata": {
        "id": "jOMIsLVq2Gs9"
      },
      "execution_count": null,
      "outputs": []
    },
    {
      "cell_type": "markdown",
      "source": [
        "Let's imagine you did not want to get all schools, but rather wanted to see if school id 255901001 was in the ODS."
      ],
      "metadata": {
        "id": "5lElCWwi34q-"
      }
    },
    {
      "cell_type": "code",
      "source": [
        "schools_api = swagger_client.SchoolsApi(api_client=edfi_client)\n",
        "schools = schools_api.get_schools(\n",
        "    school_id=\"255901001\"\n",
        ")\n",
        "\n",
        "schools[0].name_of_institution"
      ],
      "metadata": {
        "id": "rgaXQOB1rJJh"
      },
      "execution_count": null,
      "outputs": []
    },
    {
      "cell_type": "markdown",
      "source": [
        "# Schools (alternative)\n",
        "\n",
        "Let's look at schools again, but without using the client SDK. Here we are using the requests library to make API calls."
      ],
      "metadata": {
        "id": "N1_7kCM21gtH"
      }
    },
    {
      "cell_type": "code",
      "source": [
        "endpoint = f'{EDFI_BASE_URL}/data/v3/ed-fi/schools?limit=100'\n",
        "headers = {'Authorization': f'Bearer {edfi_client.configuration.access_token}'}\n",
        "response = requests.get(endpoint, headers=headers)\n",
        "\n",
        "f'Retrieved {len(response.json())} schools.'"
      ],
      "metadata": {
        "id": "yrN1ymKt5Tzh"
      },
      "execution_count": null,
      "outputs": []
    },
    {
      "cell_type": "markdown",
      "source": [
        "If we wanted to see if school id 255901001 was in the ODS, we would include that in the URL parameters."
      ],
      "metadata": {
        "id": "8B3LoWz54ply"
      }
    },
    {
      "cell_type": "code",
      "source": [
        "endpoint = f'{EDFI_BASE_URL}/data/v3/ed-fi/schools?schoolId=255901001&limit=100'\n",
        "headers = {'Authorization': f'Bearer {edfi_client.configuration.access_token}'}\n",
        "school_response = requests.get(endpoint, headers=headers)\n",
        "\n",
        "school_response.json()"
      ],
      "metadata": {
        "id": "vM_nzqbD4pIW"
      },
      "execution_count": null,
      "outputs": []
    },
    {
      "cell_type": "code",
      "source": [
        "pd.json_normalize(response.json())"
      ],
      "metadata": {
        "id": "j94lamhf90Ho"
      },
      "execution_count": null,
      "outputs": []
    },
    {
      "cell_type": "code",
      "source": [
        "df = pd.json_normalize(\n",
        "    response.json(),\n",
        "    record_path=[\"gradeLevels\"],\n",
        "    meta=[\"schoolId\", \"nameOfInstitution\"])\n",
        "\n",
        "df[[\"schoolId\", \"nameOfInstitution\", \"gradeLevelDescriptor\"]].sort_values(by=['schoolId'])"
      ],
      "metadata": {
        "id": "RfWDCMZP4ipJ"
      },
      "execution_count": null,
      "outputs": []
    }
  ]
}